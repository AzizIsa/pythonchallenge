{
 "cells": [
  {
   "cell_type": "markdown",
   "metadata": {},
   "source": [
    "# Introducing Lists"
   ]
  },
  {
   "cell_type": "markdown",
   "metadata": {},
   "source": [
    "***What is list? ***"
   ]
  },
  {
   "cell_type": "code",
   "execution_count": 37,
   "metadata": {},
   "outputs": [
    {
     "name": "stdout",
     "output_type": "stream",
     "text": [
      "['trek', 'cannondale', 'redline', 'specialized']\n"
     ]
    }
   ],
   "source": [
    "bicycles = ['trek', 'cannondale','redline', 'specialized']\n",
    "print(bicycles)"
   ]
  },
  {
   "cell_type": "code",
   "execution_count": 46,
   "metadata": {},
   "outputs": [
    {
     "name": "stdout",
     "output_type": "stream",
     "text": [
      "trek\n",
      "Trek\n",
      "['Trek', 'Cannondale', 'Redline', 'Specialized']\n",
      "cannondale\n",
      "specialized\n",
      "specialized\n",
      "My first bicycles was a <Trek>.\n"
     ]
    }
   ],
   "source": [
    "# Accesing Elements in a list\n",
    "print(bicycles[0])\n",
    "print(bicycles[0].title())\n",
    "var=[x.title() for x in bicycles] # to do title for all values\n",
    "print(var)\n",
    "\n",
    "# Index positions Start at 0 Not 1\n",
    "print(bicycles[1])\n",
    "\n",
    "print(bicycles[3]) # last value\n",
    "print(bicycles[-1]) # last value\n",
    "\n",
    "# Using individual values from a list\n",
    "message = \"My first bicycles was a <\" + bicycles[0].title() + \">.\"\n",
    "print(message)\n"
   ]
  },
  {
   "cell_type": "markdown",
   "metadata": {},
   "source": [
    "****Changing , Adding and Removing Elements***"
   ]
  },
  {
   "cell_type": "code",
   "execution_count": 71,
   "metadata": {},
   "outputs": [
    {
     "name": "stdout",
     "output_type": "stream",
     "text": [
      "['honda', 'yamaha', 'suzuku']\n",
      "['ducati', 'yamaha', 'suzuku']\n",
      "['ducati', 'yamaha', 'suzuku', 'bmw']\n",
      "['mercedes', 'bugatti', 'volvo']\n",
      "['toyota', 'mercedes', 'bugatti', 'volvo']\n",
      "['mercedes', 'bugatti', 'volvo']\n",
      "['toyota', 'mercedes', 'bugatti']\n",
      "volvo\n",
      "the first motorbike I owned was a Toyota.\n",
      "\n",
      "['toyota', 'mercedes', 'bugatti', 'volvo']\n",
      "['toyota', 'mercedes', 'volvo']\n",
      "['toyota', 'mercedes', 'volvo']\n",
      "\n",
      "A Bugatti is expensive for me.\n"
     ]
    }
   ],
   "source": [
    "# Modifying elements in alist\n",
    "motorcycles = ['honda', 'yamaha', 'suzuku']\n",
    "print(motorcycles)\n",
    "motorcycles[0] = 'ducati'\n",
    "print(motorcycles)\n",
    "\n",
    "# Adding Elements to a list\n",
    "motorcycles.append('bmw')\n",
    "print(motorcycles)\n",
    "\n",
    "motorbikes=[]\n",
    "motorbikes.append('mercedes')\n",
    "motorbikes.append('bugatti')\n",
    "motorbikes.append('volvo')\n",
    "print(motorbikes)\n",
    "# Inserting elements in to alist with the defined index number\n",
    "motorbikes = ['mercedes', 'bugatti', 'volvo']\n",
    "motorbikes.insert(0, 'toyota') # inserting to a defined index number\n",
    "print(motorbikes)\n",
    "\n",
    "# Removing Elements from a list\n",
    "motorbikes = ['toyota', 'mercedes', 'bugatti', 'volvo']\n",
    "del motorbikes[0] # u can remove lists based on the index\n",
    "print(motorbikes)\n",
    "\n",
    "motorbikes = ['toyota', 'mercedes', 'bugatti', 'volvo']\n",
    "popped_mbikes = motorbikes.pop() # pop removes the last value in a list\n",
    "print(motorbikes) # removed volvo from the list\n",
    "print(popped_mbikes) # to see the removed item\n",
    "\n",
    "# Pop remove with index any value in a list\n",
    "motorbikes = ['toyota', 'mercedes', 'bugatti', 'volvo']\n",
    "first_owned = motorbikes.pop(0) # index is here\n",
    "print( \"the first motorbike I owned was a \"  +first_owned.title() + \".\\n\")\n",
    "\n",
    "# Removing an Item by Value.\n",
    "motorbikes = ['toyota', 'mercedes', 'bugatti', 'volvo']\n",
    "print(motorbikes)\n",
    "motorbikes.remove('bugatti')\n",
    "print(motorbikes)\n",
    "\n",
    "\n",
    "motorbikes = ['toyota', 'mercedes', 'bugatti', 'volvo']\n",
    "too_expensive = 'bugatti'\n",
    "motorbikes.remove(too_expensive)\n",
    "print(motorbikes)\n",
    "print( \"\\nA \" + too_expensive.title() + \" is expensive for me.\")"
   ]
  },
  {
   "cell_type": "markdown",
   "metadata": {},
   "source": [
    "***Orginizing a list***"
   ]
  },
  {
   "cell_type": "code",
   "execution_count": 82,
   "metadata": {},
   "outputs": [
    {
     "name": "stdout",
     "output_type": "stream",
     "text": [
      "['audi', 'bmw', 'subaru', 'toyota']\n",
      "['toyota', 'subaru', 'bmw', 'audi']\n",
      "-------------------------------------\n",
      "Here is the original list: \n",
      "['bmw', 'audi', 'toyota', 'subaru']\n",
      "Here is the sorted list:\n",
      "['audi', 'bmw', 'subaru', 'toyota']\n",
      "Here is the original list again:\n",
      "['bmw', 'audi', 'toyota', 'subaru']\n",
      "-------------------------------------\n",
      "-------------------------------------\n",
      "['bmw', 'audi', 'toyota', 'subaru']\n",
      "['subaru', 'toyota', 'audi', 'bmw']\n",
      "-------------------------------------\n"
     ]
    },
    {
     "data": {
      "text/plain": [
       "4"
      ]
     },
     "execution_count": 82,
     "metadata": {},
     "output_type": "execute_result"
    }
   ],
   "source": [
    "# Sorting a List permemently with the sort() method\n",
    "cars= ['bmw', 'audi', 'toyota', 'subaru']\n",
    "cars.sort() #ascending order\n",
    "print(cars)\n",
    "\n",
    "cars= ['bmw', 'audi', 'toyota', 'subaru']\n",
    "cars.sort(reverse=True) # decending order\n",
    "print(cars)\n",
    "\n",
    "# Sorting a list Temporary with the sorted() function\n",
    "print(\"-------------------------------------\")\n",
    "cars= ['bmw', 'audi', 'toyota', 'subaru']\n",
    "print(\"Here is the original list: \")\n",
    "print(cars)\n",
    "print(\"Here is the sorted list:\")\n",
    "print(sorted(cars)) # temporary sorted\n",
    "print('Here is the original list again:')\n",
    "print(cars)\n",
    "print(\"-------------------------------------\")\n",
    "# Printing a list in Reverse Order\n",
    "print(\"-------------------------------------\")\n",
    "cars= ['bmw', 'audi', 'toyota', 'subaru']\n",
    "print(cars)\n",
    "cars.reverse()\n",
    "print(cars)\n",
    "print(\"-------------------------------------\")\n",
    "# Finding the lenth of a list\n",
    "len(cars)"
   ]
  },
  {
   "cell_type": "markdown",
   "metadata": {},
   "source": [
    "***Avoiding Index Errors. When working with lists***"
   ]
  },
  {
   "cell_type": "code",
   "execution_count": 83,
   "metadata": {},
   "outputs": [
    {
     "ename": "IndexError",
     "evalue": "list index out of range",
     "output_type": "error",
     "traceback": [
      "\u001b[1;31m---------------------------------------------------------------------------\u001b[0m",
      "\u001b[1;31mIndexError\u001b[0m                                Traceback (most recent call last)",
      "\u001b[1;32m<ipython-input-83-5c1928d6ada4>\u001b[0m in \u001b[0;36m<module>\u001b[1;34m()\u001b[0m\n\u001b[0;32m      1\u001b[0m \u001b[0mmotorbikes\u001b[0m \u001b[1;33m=\u001b[0m \u001b[1;33m[\u001b[0m\u001b[1;34m'toyota'\u001b[0m\u001b[1;33m,\u001b[0m \u001b[1;34m'mercedes'\u001b[0m\u001b[1;33m,\u001b[0m \u001b[1;34m'bugatti'\u001b[0m\u001b[1;33m,\u001b[0m \u001b[1;34m'volvo'\u001b[0m\u001b[1;33m]\u001b[0m\u001b[1;33m\u001b[0m\u001b[0m\n\u001b[1;32m----> 2\u001b[1;33m \u001b[0mprint\u001b[0m\u001b[1;33m(\u001b[0m\u001b[0mmotorbikes\u001b[0m\u001b[1;33m[\u001b[0m\u001b[1;36m5\u001b[0m\u001b[1;33m]\u001b[0m\u001b[1;33m)\u001b[0m\u001b[1;33m\u001b[0m\u001b[0m\n\u001b[0m",
      "\u001b[1;31mIndexError\u001b[0m: list index out of range"
     ]
    }
   ],
   "source": [
    "motorbikes = ['toyota', 'mercedes', 'bugatti', 'volvo']\n",
    "print(motorbikes[5]) # Error \n"
   ]
  },
  {
   "cell_type": "code",
   "execution_count": 84,
   "metadata": {},
   "outputs": [
    {
     "name": "stdout",
     "output_type": "stream",
     "text": [
      "volvo\n"
     ]
    }
   ],
   "source": [
    "print(motorbikes[-1]) # better than prediciting the last value"
   ]
  },
  {
   "cell_type": "code",
   "execution_count": 85,
   "metadata": {
    "scrolled": true
   },
   "outputs": [
    {
     "ename": "IndexError",
     "evalue": "list index out of range",
     "output_type": "error",
     "traceback": [
      "\u001b[1;31m---------------------------------------------------------------------------\u001b[0m",
      "\u001b[1;31mIndexError\u001b[0m                                Traceback (most recent call last)",
      "\u001b[1;32m<ipython-input-85-530ddccf8eff>\u001b[0m in \u001b[0;36m<module>\u001b[1;34m()\u001b[0m\n\u001b[0;32m      1\u001b[0m \u001b[0mmotorbikes\u001b[0m\u001b[1;33m=\u001b[0m\u001b[1;33m[\u001b[0m\u001b[1;33m]\u001b[0m\u001b[1;33m\u001b[0m\u001b[0m\n\u001b[1;32m----> 2\u001b[1;33m \u001b[0mprint\u001b[0m\u001b[1;33m(\u001b[0m\u001b[0mmotorbikes\u001b[0m\u001b[1;33m[\u001b[0m\u001b[1;33m-\u001b[0m\u001b[1;36m1\u001b[0m\u001b[1;33m]\u001b[0m\u001b[1;33m)\u001b[0m\u001b[1;33m\u001b[0m\u001b[0m\n\u001b[0m",
      "\u001b[1;31mIndexError\u001b[0m: list index out of range"
     ]
    }
   ],
   "source": [
    "motorbikes=[]\n",
    "print(motorbikes[-1]) #Error because list is empty"
   ]
  },
  {
   "cell_type": "code",
   "execution_count": null,
   "metadata": {},
   "outputs": [],
   "source": []
  }
 ],
 "metadata": {
  "kernelspec": {
   "display_name": "Python 3",
   "language": "python",
   "name": "python3"
  },
  "language_info": {
   "codemirror_mode": {
    "name": "ipython",
    "version": 3
   },
   "file_extension": ".py",
   "mimetype": "text/x-python",
   "name": "python",
   "nbconvert_exporter": "python",
   "pygments_lexer": "ipython3",
   "version": "3.6.6"
  }
 },
 "nbformat": 4,
 "nbformat_minor": 2
}
