{
 "cells": [
  {
   "cell_type": "markdown",
   "metadata": {},
   "source": [
    "# Variables & Simple Data types"
   ]
  },
  {
   "cell_type": "markdown",
   "metadata": {},
   "source": [
    "***Variables***"
   ]
  },
  {
   "cell_type": "code",
   "execution_count": 1,
   "metadata": {},
   "outputs": [
    {
     "name": "stdout",
     "output_type": "stream",
     "text": [
      "Hello Python World!\n"
     ]
    }
   ],
   "source": [
    "message = \"Hello Python World!\"\n",
    "print(message)"
   ]
  },
  {
   "cell_type": "code",
   "execution_count": 2,
   "metadata": {},
   "outputs": [
    {
     "name": "stdout",
     "output_type": "stream",
     "text": [
      " Hello Python Crash course world!\n"
     ]
    }
   ],
   "source": [
    "message = \"Hello Python World!\"\n",
    "message= \" Hello Python Crash course world!\"\n",
    "print(message)"
   ]
  },
  {
   "cell_type": "code",
   "execution_count": 3,
   "metadata": {},
   "outputs": [],
   "source": [
    "# Naming Using Variables possible variable names\n",
    "message_1 = \"hi\"\n",
    "mEssage_1 = \"hi\"\n",
    "greeting_message = \"hi\"\n",
    "first_name = \"john\"\n",
    "last_name = \"jackson\""
   ]
  },
  {
   "cell_type": "code",
   "execution_count": 5,
   "metadata": {},
   "outputs": [
    {
     "ename": "NameError",
     "evalue": "name 'mesage' is not defined",
     "output_type": "error",
     "traceback": [
      "\u001b[1;31m---------------------------------------------------------------------------\u001b[0m",
      "\u001b[1;31mNameError\u001b[0m                                 Traceback (most recent call last)",
      "\u001b[1;32m<ipython-input-5-fe6d7979abcf>\u001b[0m in \u001b[0;36m<module>\u001b[1;34m()\u001b[0m\n\u001b[0;32m      1\u001b[0m \u001b[1;31m# Avoid Name Errors\u001b[0m\u001b[1;33m\u001b[0m\u001b[1;33m\u001b[0m\u001b[0m\n\u001b[0;32m      2\u001b[0m \u001b[0mmessage\u001b[0m \u001b[1;33m=\u001b[0m \u001b[1;34m\"Hello Python World!\"\u001b[0m\u001b[1;33m\u001b[0m\u001b[0m\n\u001b[1;32m----> 3\u001b[1;33m \u001b[0mprint\u001b[0m\u001b[1;33m(\u001b[0m\u001b[0mmesage\u001b[0m\u001b[1;33m)\u001b[0m\u001b[1;33m\u001b[0m\u001b[0m\n\u001b[0m\u001b[0;32m      4\u001b[0m \u001b[1;31m# ERROR description: 1) Output 2)\u001b[0m\u001b[1;33m\u001b[0m\u001b[1;33m\u001b[0m\u001b[0m\n",
      "\u001b[1;31mNameError\u001b[0m: name 'mesage' is not defined"
     ]
    }
   ],
   "source": [
    "# Avoid Name Errors\n",
    "message = \"Hello Python World!\"\n",
    "print(message)\n",
    "# ERROR description below: 1) Output 2) spot of the error 3) kind of the error"
   ]
  },
  {
   "cell_type": "raw",
   "metadata": {},
   "source": [
    "***Strings***"
   ]
  },
  {
   "cell_type": "code",
   "execution_count": 29,
   "metadata": {},
   "outputs": [
    {
     "name": "stdout",
     "output_type": "stream",
     "text": [
      "Ada Lovelace\n",
      "ADA LOVELACE\n",
      "ada lovelace\n",
      "Fullname:  ada lovelace\n",
      "Hello, Ada Lovelace!\n",
      "Python\n",
      "\tPython\n",
      "Languages:\n",
      "Python\n",
      "C\n",
      "Javascript\n",
      "Languages:\n",
      "\tPython\n",
      "\tC\n",
      "\tJavascript\n",
      "python right          \n",
      "python right\n",
      "python left\n",
      "python both\n",
      "One of Python's strength is its divers community.\n"
     ]
    }
   ],
   "source": [
    "#String in quotes single/double:\n",
    "\"This is a string\"\n",
    "'this is also string!'\n",
    "\n",
    "#Changing Case in String \n",
    "name = \"ada lovelace\"\n",
    "print(name.title())\n",
    "print(name.upper())\n",
    "print(name.lower())\n",
    "\n",
    "#Combining or Concatinating\n",
    "first_name = \"ada\"\n",
    "last_name = \"lovelace\"\n",
    "full_name =  first_name + \" \" + last_name\n",
    "print(\"Fullname: \" + \" \" +full_name)\n",
    "print( \"Hello, \" + full_name.title() + \"!\")\n",
    "\n",
    "#Adding WhiteSpace to strings with tabs or newlines\n",
    "print(\"Python\") # simple text\n",
    "print(\"\\tPython\") # adding tab\n",
    "print(\"Languages:\\nPython\\nC\\nJavascript\") # printing each text in a new line\n",
    "print(\"Languages:\\n\\tPython\\n\\tC\\n\\tJavascript\") # printing with tab and new line\n",
    "\n",
    "#Stripping white space #rstrip()\n",
    "favourite_language1 = \"python right          \"\n",
    "\n",
    "print(favourite_language1)\n",
    "print(favourite_language1.rstrip()) # eleminates extra space(right)in a string\n",
    "\n",
    "favourite_language2 = \"          python left\"\n",
    "print(favourite_language2.lstrip())# eleminates extra space(left)in a string\n",
    "\n",
    "favourite_language3 = \"          python both          \"\n",
    "print(favourite_language3.strip())\n",
    "\n",
    "#Avoiding Syntax Errors confusion with double quotes/and single quotes\n",
    "message = \"One of Python's strength is its divers community.\" # best one\n",
    "print(message)\n",
    "\n",
    "#message = 'One of Python's strength is its divers community.' here is the error"
   ]
  },
  {
   "cell_type": "markdown",
   "metadata": {},
   "source": [
    "***Numbers***"
   ]
  },
  {
   "cell_type": "code",
   "execution_count": 30,
   "metadata": {},
   "outputs": [
    {
     "data": {
      "text/plain": [
       "1.5"
      ]
     },
     "execution_count": 30,
     "metadata": {},
     "output_type": "execute_result"
    }
   ],
   "source": [
    "# Integers canbe used with arithmetics\n",
    "2+3\n",
    "3-2\n",
    "2*3\n",
    "3/2\n"
   ]
  },
  {
   "cell_type": "code",
   "execution_count": 31,
   "metadata": {},
   "outputs": [
    {
     "data": {
      "text/plain": [
       "0.4"
      ]
     },
     "execution_count": 31,
     "metadata": {},
     "output_type": "execute_result"
    }
   ],
   "source": [
    "#Floats \n",
    "0.1 +0.2\n",
    "0.2 * 2\n"
   ]
  },
  {
   "cell_type": "code",
   "execution_count": 33,
   "metadata": {},
   "outputs": [
    {
     "name": "stdout",
     "output_type": "stream",
     "text": [
      "happy23rd Brithday!\n"
     ]
    }
   ],
   "source": [
    "#Avoiding Type Errors with the str() Function\n",
    "age = 23\n",
    "message = \"happy\" + str(age) +\"rd Brithday!\"\n",
    "print(message)"
   ]
  },
  {
   "cell_type": "markdown",
   "metadata": {},
   "source": [
    "***Comments***"
   ]
  },
  {
   "cell_type": "code",
   "execution_count": null,
   "metadata": {},
   "outputs": [],
   "source": [
    "# the main reason to write comments is to explane what your code is supposed to do and how you are making it work\n",
    "#Coloborate with other developers in a team\n"
   ]
  },
  {
   "cell_type": "markdown",
   "metadata": {},
   "source": [
    "***Zen of Python***"
   ]
  },
  {
   "cell_type": "code",
   "execution_count": null,
   "metadata": {},
   "outputs": [],
   "source": [
    "\"Beautiful is better than ugly\"\n",
    "\"Simple is better than complex\"\n",
    "\"Complex is better than complicated\"\n",
    "\"Readibility counts\"\n",
    "\"there should be one -- and preferable only one -- obvious way to do it\"\n",
    "\"Now is better thean never.\"\""
   ]
  }
 ],
 "metadata": {
  "kernelspec": {
   "display_name": "Python 3",
   "language": "python",
   "name": "python3"
  },
  "language_info": {
   "codemirror_mode": {
    "name": "ipython",
    "version": 3
   },
   "file_extension": ".py",
   "mimetype": "text/x-python",
   "name": "python",
   "nbconvert_exporter": "python",
   "pygments_lexer": "ipython3",
   "version": "3.6.6"
  }
 },
 "nbformat": 4,
 "nbformat_minor": 2
}
