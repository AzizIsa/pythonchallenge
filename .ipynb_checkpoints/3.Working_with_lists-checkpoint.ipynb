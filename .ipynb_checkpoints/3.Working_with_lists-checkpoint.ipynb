{
 "cells": [
  {
   "cell_type": "markdown",
   "metadata": {},
   "source": [
    "# 4 Working with Lists"
   ]
  },
  {
   "cell_type": "markdown",
   "metadata": {},
   "source": [
    "***Looping Through Entire list***"
   ]
  },
  {
   "cell_type": "code",
   "execution_count": 92,
   "metadata": {},
   "outputs": [
    {
     "name": "stdout",
     "output_type": "stream",
     "text": [
      "alice\n",
      "david\n",
      "carolina\n",
      "-------------------------------\n",
      "Alice, that was great trick!\n",
      "David, that was great trick!\n",
      "Carolina, that was great trick!\n",
      "-------------------------------\n",
      "Alice, that was great trick!\n",
      "I cant wait to see your next tric, Alice.\n",
      "\n",
      "David, that was great trick!\n",
      "I cant wait to see your next tric, David.\n",
      "\n",
      "Carolina, that was great trick!\n",
      "I cant wait to see your next tric, Carolina.\n",
      "\n"
     ]
    }
   ],
   "source": [
    "# A closer look at LOOPING\n",
    "magicians = ['alice', 'david', 'carolina']\n",
    "for x in magicians:\n",
    "    print(x)\n",
    "    \n",
    "    \n",
    "print(\"-------------------------------\") # doing smth after loop, indentation should be avoided.\n",
    "# Doing More Working Within a for Loop\n",
    "magicians = ['alice', 'david', 'carolina']\n",
    "\n",
    "for x in magicians:\n",
    "    print(x.title() + \", that was great trick!\")\n",
    "    \n",
    "    \n",
    "    \n",
    "print(\"-------------------------------\")    \n",
    "# Doing something After a for Loop\n",
    "\n",
    "magicians = ['alice', 'david', 'carolina']\n",
    "\n",
    "for x in magicians:\n",
    "    print(x.title() + \", that was great trick!\")\n",
    "    print(\"I cant wait to see your next tric, \" + x.title() + \".\\n\")\n"
   ]
  },
  {
   "cell_type": "markdown",
   "metadata": {},
   "source": [
    "**Avoiding Indentation Errors**"
   ]
  },
  {
   "cell_type": "code",
   "execution_count": 95,
   "metadata": {},
   "outputs": [
    {
     "ename": "IndentationError",
     "evalue": "expected an indented block (<ipython-input-95-6c21b621e330>, line 4)",
     "output_type": "error",
     "traceback": [
      "\u001b[1;36m  File \u001b[1;32m\"<ipython-input-95-6c21b621e330>\"\u001b[1;36m, line \u001b[1;32m4\u001b[0m\n\u001b[1;33m    print(x) #Error\u001b[0m\n\u001b[1;37m        ^\u001b[0m\n\u001b[1;31mIndentationError\u001b[0m\u001b[1;31m:\u001b[0m expected an indented block\n"
     ]
    }
   ],
   "source": [
    "#Forgetting to Indent\n",
    "magicians = ['alice', 'david', 'carolina']\n",
    "for x in magicians:\n",
    "print(x) #Error "
   ]
  },
  {
   "cell_type": "code",
   "execution_count": 98,
   "metadata": {},
   "outputs": [
    {
     "ename": "IndentationError",
     "evalue": "unexpected indent (<ipython-input-98-868c9d52b0ef>, line 3)",
     "output_type": "error",
     "traceback": [
      "\u001b[1;36m  File \u001b[1;32m\"<ipython-input-98-868c9d52b0ef>\"\u001b[1;36m, line \u001b[1;32m3\u001b[0m\n\u001b[1;33m    print(message)\u001b[0m\n\u001b[1;37m    ^\u001b[0m\n\u001b[1;31mIndentationError\u001b[0m\u001b[1;31m:\u001b[0m unexpected indent\n"
     ]
    }
   ],
   "source": [
    "#Indenting Unnecessarily will cause error \n",
    "message = \"hellow\"\n",
    "    print(message)"
   ]
  },
  {
   "cell_type": "code",
   "execution_count": 103,
   "metadata": {},
   "outputs": [
    {
     "name": "stdout",
     "output_type": "stream",
     "text": [
      "Alice, that was great trick!\n",
      "I cant wait to see your next tric, Alice.\n",
      "\n",
      "Thank you all\n",
      "David, that was great trick!\n",
      "I cant wait to see your next tric, David.\n",
      "\n",
      "Thank you all\n",
      "Carolina, that was great trick!\n",
      "I cant wait to see your next tric, Carolina.\n",
      "\n",
      "Thank you all\n"
     ]
    }
   ],
   "source": [
    "#Indenting Unecessarily after the Loop\n",
    "magicians = ['alice', 'david', 'carolina']\n",
    "\n",
    "for x in magicians:\n",
    "    print(x.title() + \", that was great trick!\")\n",
    "    print(\"I cant wait to see your next tric, \" + x.title() + \".\\n\")\n",
    "    \n",
    "    print(\"Thank you all\") # Indentation should be avoided ( footer message)"
   ]
  },
  {
   "cell_type": "code",
   "execution_count": 104,
   "metadata": {},
   "outputs": [
    {
     "ename": "SyntaxError",
     "evalue": "invalid syntax (<ipython-input-104-755a784a5d78>, line 3)",
     "output_type": "error",
     "traceback": [
      "\u001b[1;36m  File \u001b[1;32m\"<ipython-input-104-755a784a5d78>\"\u001b[1;36m, line \u001b[1;32m3\u001b[0m\n\u001b[1;33m    for x in magicians # here\u001b[0m\n\u001b[1;37m                             ^\u001b[0m\n\u001b[1;31mSyntaxError\u001b[0m\u001b[1;31m:\u001b[0m invalid syntax\n"
     ]
    }
   ],
   "source": [
    "#Forgeting the Colon will result in error\n",
    "magicians = ['alice', 'david', 'carolina']\n",
    "for x in magicians # here\n",
    "    print(x)\n",
    "    "
   ]
  },
  {
   "cell_type": "markdown",
   "metadata": {},
   "source": [
    "**Making Numerical Lists**"
   ]
  },
  {
   "cell_type": "code",
   "execution_count": null,
   "metadata": {},
   "outputs": [],
   "source": [
    "##Using the range() Function\n",
    "for x in range(1, 5):\n",
    "    print(x)\n",
    "print(\"--------------------\")\n",
    "\n",
    "for y in range(1,6):\n",
    "    print(y)\n",
    "print(\"--------------------\")\n",
    "\n",
    "\n",
    "\n",
    "#Using range() to Make a list of Numbers\n",
    "numbers = list(range(1,6))\n",
    "print(numbers)\n",
    "\n",
    "squares = []\n",
    "\n",
    "for value in range(1,11):\n",
    "    square = value**2\n",
    "    squares.append(square)\n",
    "print(squares)\n",
    "# Alternative Way\n",
    "squares=[]\n",
    "for value in range(1,11):\n",
    "    squares.append(value**2)\n",
    "print(squares)\n",
    "print(\"--------------------\")\n",
    "\n",
    "\n",
    "#Simple Statistics with a List of Numbers\n",
    "digits=[1,2,3,4,5,6,7,8,9,0]\n",
    "print(min(digits))\n",
    "print(max(digits))\n",
    "print(sum(digits))\n",
    "print(\"--------------------\")\n",
    "\n",
    "#List Comprehentions( best way of looping with append)\n",
    "squares = [value**2 for value in range(1,11)]\n",
    "print(squares)"
   ]
  },
  {
   "cell_type": "markdown",
   "metadata": {},
   "source": [
    "**Working with Part of a list**"
   ]
  },
  {
   "cell_type": "code",
   "execution_count": 134,
   "metadata": {},
   "outputs": [
    {
     "name": "stdout",
     "output_type": "stream",
     "text": [
      "['charlse', 'nartina', 'michael']\n",
      "['nartina', 'michael', 'florence']\n",
      "['charlse', 'nartina', 'michael', 'florence']\n",
      "['michael', 'florence', 'eli']\n",
      "['michael', 'florence', 'eli']\n",
      "-------------------------------\n",
      "here are the first three players on my team:\n",
      "Charlse\n",
      "Nartina\n",
      "Michael\n",
      "-------------------------------\n",
      "['pizza', 'falafet', 'carrot cake']\n",
      "['pizza', 'falafet', 'carrot cake']\n",
      "['pizza', 'falafet', 'carrot cake', 'cannoli']\n",
      "['pizza', 'falafet', 'carrot cake', 'ice cream']\n"
     ]
    }
   ],
   "source": [
    "#Slicing a List\n",
    "players=['charlse', 'nartina', 'michael', 'florence', 'eli']\n",
    "print(players[0:3]) # start to 3\n",
    "print(players[1:4]) # 1 to 4\n",
    "print(players[:4]) # start to 4\n",
    "print(players[2:]) # 2 to end\n",
    "print(players[-3:]) # 2 to end\n",
    "print(\"-------------------------------\")\n",
    "\n",
    "#Looping through a slce\n",
    "print(\"here are the first three players on my team:\")\n",
    "for player in players[:3]: # setting limit to the loop\n",
    "    print(player.title())\n",
    "print(\"-------------------------------\")    \n",
    "\n",
    "# Copying a List\n",
    "my_foods = [\"pizza\", \"falafet\", \"carrot cake\"]\n",
    "friend_foods= my_foods[:] # means all ( copied one var to another)\n",
    "\n",
    "print(my_foods)\n",
    "print(friend_foods)\n",
    "\n",
    "my_foods.append(\"cannoli\")\n",
    "friend_foods.append(\"ice cream\")\n",
    "print(my_foods)\n",
    "print(friend_foods)\n"
   ]
  },
  {
   "cell_type": "markdown",
   "metadata": {},
   "source": [
    "**Tuples(cannot be modified or added)**"
   ]
  },
  {
   "cell_type": "code",
   "execution_count": 139,
   "metadata": {},
   "outputs": [
    {
     "name": "stdout",
     "output_type": "stream",
     "text": [
      "200\n",
      "50\n"
     ]
    }
   ],
   "source": [
    "# Defining a Tuple with paranthesis\n",
    "dimentions = (200, 50)\n",
    "print(dimentions[0])\n",
    "print(dimentions[1])\n"
   ]
  },
  {
   "cell_type": "code",
   "execution_count": 140,
   "metadata": {},
   "outputs": [
    {
     "ename": "TypeError",
     "evalue": "'tuple' object does not support item assignment",
     "output_type": "error",
     "traceback": [
      "\u001b[1;31m---------------------------------------------------------------------------\u001b[0m",
      "\u001b[1;31mTypeError\u001b[0m                                 Traceback (most recent call last)",
      "\u001b[1;32m<ipython-input-140-e4e3e38145b9>\u001b[0m in \u001b[0;36m<module>\u001b[1;34m()\u001b[0m\n\u001b[0;32m      1\u001b[0m \u001b[1;31m# Try to change tuple\u001b[0m\u001b[1;33m\u001b[0m\u001b[1;33m\u001b[0m\u001b[0m\n\u001b[0;32m      2\u001b[0m \u001b[0mdimentions\u001b[0m\u001b[1;33m=\u001b[0m\u001b[1;33m(\u001b[0m\u001b[1;36m200\u001b[0m\u001b[1;33m,\u001b[0m\u001b[1;36m50\u001b[0m\u001b[1;33m,\u001b[0m\u001b[1;36m60\u001b[0m\u001b[1;33m)\u001b[0m\u001b[1;33m\u001b[0m\u001b[0m\n\u001b[1;32m----> 3\u001b[1;33m \u001b[0mdimentions\u001b[0m\u001b[1;33m[\u001b[0m\u001b[1;36m2\u001b[0m\u001b[1;33m]\u001b[0m\u001b[1;33m=\u001b[0m\u001b[1;36m500\u001b[0m\u001b[1;33m\u001b[0m\u001b[0m\n\u001b[0m",
      "\u001b[1;31mTypeError\u001b[0m: 'tuple' object does not support item assignment"
     ]
    }
   ],
   "source": [
    "# Try to change tuple\n",
    "dimentions=(200,50,60)\n",
    "dimentions[2]=500"
   ]
  },
  {
   "cell_type": "code",
   "execution_count": 143,
   "metadata": {},
   "outputs": [
    {
     "name": "stdout",
     "output_type": "stream",
     "text": [
      "200\n",
      "50\n",
      "60\n",
      "original dimentions\n",
      "200\n",
      "50\n",
      "60\n",
      "\n",
      " Modified dimentions\n",
      "400\n",
      "100\n",
      "500\n"
     ]
    }
   ],
   "source": [
    "#Looping Trhough All Values in a Tuple\n",
    "dimentions=(200,50,60)\n",
    "for dim in dimentions:\n",
    "    print(dim)\n",
    "\n",
    "#Writing over a Tuple\n",
    "dimentions=(200,50,60)\n",
    "print(\"original dimentions\")\n",
    "for dim in dimentions:\n",
    "    print(dim)\n",
    "    \n",
    "# Only way to change tuple by overwrting    \n",
    "dimentions=(400,100,500)\n",
    "print(\"\\n Modified dimentions\")\n",
    "for dim in dimentions:\n",
    "    print(dim)    "
   ]
  },
  {
   "cell_type": "markdown",
   "metadata": {},
   "source": [
    "**Styling Your Code**"
   ]
  },
  {
   "cell_type": "code",
   "execution_count": 144,
   "metadata": {
    "scrolled": true
   },
   "outputs": [
    {
     "data": {
      "text/plain": [
       "'Read PEP 8 style guide'"
      ]
     },
     "execution_count": 144,
     "metadata": {},
     "output_type": "execute_result"
    }
   ],
   "source": [
    "# the Style Guide\n",
    "\"PEP 8  writing style\"\n",
    "#indentation\n",
    "\"Tab should be configured to 4 spaces in text editor\"\n",
    "\n",
    "#Line Length\n",
    "\"Each line should be less than 80 characters\"\n",
    "\"Text editors can be configured to set char limits\"\n",
    "\n",
    "#Blank Lines\n",
    "\"Use blank lines to seperate/.group your code\"\n",
    "\n",
    "#Other Style Guidelines.\n",
    "\"Read PEP 8 style guide\""
   ]
  },
  {
   "cell_type": "code",
   "execution_count": null,
   "metadata": {},
   "outputs": [],
   "source": []
  }
 ],
 "metadata": {
  "kernelspec": {
   "display_name": "Python 3",
   "language": "python",
   "name": "python3"
  },
  "language_info": {
   "codemirror_mode": {
    "name": "ipython",
    "version": 3
   },
   "file_extension": ".py",
   "mimetype": "text/x-python",
   "name": "python",
   "nbconvert_exporter": "python",
   "pygments_lexer": "ipython3",
   "version": "3.6.6"
  }
 },
 "nbformat": 4,
 "nbformat_minor": 2
}
