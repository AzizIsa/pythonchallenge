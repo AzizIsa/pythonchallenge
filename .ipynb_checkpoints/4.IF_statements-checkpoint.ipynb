{
 "cells": [
  {
   "cell_type": "markdown",
   "metadata": {},
   "source": [
    "# IF Statements"
   ]
  },
  {
   "cell_type": "markdown",
   "metadata": {},
   "source": [
    " **Simple Example**"
   ]
  },
  {
   "cell_type": "code",
   "execution_count": 1,
   "metadata": {},
   "outputs": [
    {
     "name": "stdout",
     "output_type": "stream",
     "text": [
      "Audi\n",
      "BMW\n",
      "Subaru\n",
      "Toyota\n"
     ]
    }
   ],
   "source": [
    "cars = ['audi', 'bmw', 'subaru','toyota']\n",
    "for car in cars:\n",
    "    if car=='bmw':\n",
    "        print(car.upper())\n",
    "    else:\n",
    "        print(car.title())"
   ]
  },
  {
   "cell_type": "markdown",
   "metadata": {},
   "source": [
    "**Conditional tests**"
   ]
  },
  {
   "cell_type": "code",
   "execution_count": 18,
   "metadata": {},
   "outputs": [
    {
     "name": "stdout",
     "output_type": "stream",
     "text": [
      "Audi\n",
      "Hold the anchvies!\n",
      "that is note the correct answer\n",
      "------------------------------------\n",
      "Marie, you can post a response if you wish\n",
      "------------------------------------\n"
     ]
    }
   ],
   "source": [
    "# Checking for Equality\n",
    "# checks a value of variable is equal to a value of interest.\n",
    "car='bmw'\n",
    "car=='bmw'\n",
    "#True\n",
    "\n",
    "car='audi'\n",
    "car=='bmw'\n",
    "#False\n",
    "\n",
    "#Ignoring Case when checking for Equality\n",
    "car='Audi'\n",
    "car=='audi'\n",
    "#False\n",
    "\n",
    "car='Audi'\n",
    "car.lower()=='audi'\n",
    "# True\n",
    "\n",
    "car='Audi'\n",
    "car.lower()=='audi'\n",
    "#True\n",
    "print(car) \n",
    "\n",
    "#Checking for Inequality (!=)\n",
    "requested_topping='mushrooms'\n",
    "if requested_topping != 'anchovies':\n",
    "    print(\"Hold the anchvies!\")\n",
    "\n",
    "#Numerical Comparisons\n",
    "age=18\n",
    "age==18\n",
    "\n",
    "answer = 17\n",
    "if answer !=42:\n",
    "    print(\"that is note the correct answer\")\n",
    "\n",
    "#Checking Multiple Conditions\n",
    "age_0=22\n",
    "age_1=18\n",
    "age_0 >=21 and age_1>=21 #false\n",
    "age_1=22\n",
    "age_0 >=21 and age_1>=21 #true\n",
    "\n",
    "#Checking Whether a value is in a list.\n",
    "requested_toppings=['mushrooms', 'onions', 'pineapple']\n",
    "'mushrooms'in requested_toppings #true\n",
    "'peperoni' in requested_toppings #false\n",
    "print(\"------------------------------------\")\n",
    "\n",
    "#Checking a Value is not in a List\n",
    "banned_users=['andrew', 'carolina', 'david']\n",
    "user='marie'\n",
    "if user not in banned_users:\n",
    "    print(user.title() + ', you can post a response if you wish')\n",
    "print(\"------------------------------------\")\n",
    "\n",
    "#Boolean Expressions\n",
    "game_active=True\n",
    "can_edit=False"
   ]
  },
  {
   "cell_type": "markdown",
   "metadata": {},
   "source": [
    "**IF statements**"
   ]
  },
  {
   "cell_type": "code",
   "execution_count": 51,
   "metadata": {},
   "outputs": [
    {
     "name": "stdout",
     "output_type": "stream",
     "text": [
      "You are old enough to vote!\n",
      "------------------------------------\n",
      "You are old enough to vote!\n",
      "Have you registered to vote\n",
      "------------------------------------\n",
      "sorry, you are too young to vote!\n",
      "please register\n",
      "------------------------------------\n",
      "your admission cost is $5.\n",
      "------------------------------------\n",
      "Your admission cost is $5 .\n",
      "------------------------------------\n",
      "Your admission cost is $10 .\n",
      "------------------------------------\n",
      "Your admission cost is $5 .\n",
      "------------------------------------\n",
      "adding mushrooms\n",
      "addingextra cheese\n",
      "\n",
      "Finished making your pizza\n",
      "------------------------------------\n",
      "adding mushrooms\n",
      "\n",
      "Finished making your pizza\n",
      "------------------------------------\n"
     ]
    }
   ],
   "source": [
    "#Simple If staements\n",
    "#if conditional_test:\"\n",
    "    #do smth\"\n",
    "age=19\n",
    "if age>=18:\n",
    "    print(\"You are old enough to vote!\")\n",
    "print(\"------------------------------------\")\n",
    "\n",
    "if age>=18:\n",
    "    print(\"You are old enough to vote!\")\n",
    "    print(\"Have you registered to vote\")\n",
    "print(\"------------------------------------\")\n",
    "\n",
    "#if-else statements\n",
    "age=17 ##\n",
    "if age>=18:\n",
    "    print(\"You are old enough to vote!\")\n",
    "    print(\"Have you registered to vote\")\n",
    "else:\n",
    "    print(\"sorry, you are too young to vote!\")\n",
    "    print(\"please register\")\n",
    "print(\"------------------------------------\")\n",
    "\n",
    "#if-else statements chain\n",
    "age=12\n",
    "if age<4:\n",
    "    print(\"Your admission cost is $0.\")\n",
    "elif age<18:\n",
    "    print(\"your admission cost is $5.\")\n",
    "else:\n",
    "    print(\"your admission cost is $10\")\n",
    "\n",
    "    \n",
    "print(\"------------------------------------\")\n",
    "\n",
    "# Different way of printing/conditioning.\n",
    "age=12\n",
    "if age <4:\n",
    "    price=0\n",
    "elif age <18:\n",
    "    price =5\n",
    "else:\n",
    "    price=10\n",
    "print(\"Your admission cost is $\" + str(price) + \" .\")\n",
    "print(\"------------------------------------\")\n",
    "#Using Mutiple elif Blocks\n",
    "\n",
    "age=55\n",
    "if age <4:\n",
    "    price=0\n",
    "elif age <18:\n",
    "    price =5\n",
    "elif age < 65:\n",
    "    price=10\n",
    "else:\n",
    "    price=5\n",
    "\n",
    "print(\"Your admission cost is $\" + str(price) + \" .\")\n",
    "print(\"------------------------------------\")\n",
    "\n",
    "#Omitting the else block\n",
    "\n",
    "age=12\n",
    "if age <4:\n",
    "    price=0\n",
    "elif age <18:\n",
    "    price =5\n",
    "elif age < 65:\n",
    "    price=10\n",
    "elif age >=65: #replaced else with elif\n",
    "    price=5\n",
    "print(\"Your admission cost is $\" + str(price) + \" .\")\n",
    "print(\"------------------------------------\")\n",
    "\n",
    "\n",
    "#Testing Mutiple Conditions\n",
    "requested_toppings=['mushrooms', 'extra cheese']\n",
    "if 'mushrooms' in requested_toppings:\n",
    "    print(\"adding \" + requested_toppings[0])\n",
    "if 'peperoni' in requested_toppings:\n",
    "    print(\"adding peperoni\")\n",
    "if 'extra cheese' in requested_toppings:\n",
    "    print(\"adding\" + requested_toppings[1])\n",
    "print(\"\\nFinished making your pizza\")\n",
    "print(\"------------------------------------\")\n",
    "\n",
    "if 'mushrooms' in requested_toppings:\n",
    "    print(\"adding \" + requested_toppings[0])\n",
    "elif 'peperoni' in requested_toppings:\n",
    "    print(\"adding peperoni\")\n",
    "elif 'extra cheese' in requested_toppings:    \n",
    "    print(\"adding \" + requested_toppings[1])\n",
    "\n",
    "print(\"\\nFinished making your pizza\")\n",
    "print(\"------------------------------------\")"
   ]
  },
  {
   "cell_type": "markdown",
   "metadata": {},
   "source": [
    "**Using if Statements in Lists**"
   ]
  },
  {
   "cell_type": "code",
   "execution_count": 59,
   "metadata": {},
   "outputs": [
    {
     "name": "stdout",
     "output_type": "stream",
     "text": [
      "adding <mushrooms>.\n",
      "adding <peperoni>.\n",
      "adding <extra cheese>.\n",
      "\n",
      "Finished making your pizza\n",
      "------------------------------------\n",
      "are you sure  you want a plain pizza\n",
      "------------------------------------\n",
      "Adding <mushrooms>\n",
      "Sorry, we dont have french fries.\n",
      "Adding <extra cheese>\n",
      "\n",
      "Finished making your pizza\n"
     ]
    }
   ],
   "source": [
    "#Checking for special items\n",
    "requested_toppings=['mushrooms','peperoni', 'extra cheese']\n",
    "for x in requested_toppings:\n",
    "    if x=='green peppers':\n",
    "        print(\"sorry, we are out of green peppers now\")\n",
    "    else:\n",
    "        print(\"adding <\" + x + \">.\")\n",
    "print(\"\\nFinished making your pizza\")\n",
    "print(\"------------------------------------\")\n",
    "#Checking that a list not Empty\n",
    "requested_tops=[]\n",
    "if requested_tops:\n",
    "    for x in requested_tops:\n",
    "        print(\"adding <\" + x + \">\")\n",
    "    print(\"\\nFinished\")\n",
    "else: \n",
    "    print(\"are you sure  you want a plain pizza\")\n",
    "print(\"------------------------------------\")\n",
    "\n",
    "#Using Multiple Lists\n",
    "available_toppings=['mushrooms','olives', 'green peppers','peperoni','pineapple', 'extra cheese']\n",
    "requested_toppings=['mushrooms', 'french fries', 'extra cheese']\n",
    "for x in requested_toppings:\n",
    "    if x in available_toppings:\n",
    "        print(\"Adding <\" + x + \">\")\n",
    "    else: \n",
    "        print(\"Sorry, we dont have \" + x + \".\")\n",
    "print(\"\\nFinished making your pizza\")"
   ]
  },
  {
   "cell_type": "markdown",
   "metadata": {},
   "source": [
    "**Styling your If Statements**"
   ]
  },
  {
   "cell_type": "code",
   "execution_count": null,
   "metadata": {},
   "outputs": [],
   "source": [
    "\"Operators should be far from variable and value in a IF statment\"\n",
    "if age < 4:\n",
    "#Avoid\n",
    "if age<4:"
   ]
  }
 ],
 "metadata": {
  "kernelspec": {
   "display_name": "Python 3",
   "language": "python",
   "name": "python3"
  },
  "language_info": {
   "codemirror_mode": {
    "name": "ipython",
    "version": 3
   },
   "file_extension": ".py",
   "mimetype": "text/x-python",
   "name": "python",
   "nbconvert_exporter": "python",
   "pygments_lexer": "ipython3",
   "version": "3.6.6"
  }
 },
 "nbformat": 4,
 "nbformat_minor": 2
}
